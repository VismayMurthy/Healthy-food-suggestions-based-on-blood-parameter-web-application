{
 "cells": [
  {
   "cell_type": "code",
   "execution_count": 1,
   "id": "bb87cbc3",
   "metadata": {},
   "outputs": [],
   "source": [
    "import pandas as pd\n",
    "import numpy as np\n",
    "import seaborn as sns\n",
    "import matplotlib.pyplot as plt"
   ]
  },
  {
   "cell_type": "code",
   "execution_count": 2,
   "id": "9f195f21",
   "metadata": {},
   "outputs": [],
   "source": [
    "data=pd.read_excel(r'D:\\2022BE Projects\\healthy\\Healthy Food\\healthyfood.xlsx')"
   ]
  },
  {
   "cell_type": "code",
   "execution_count": 3,
   "id": "4ab7147c",
   "metadata": {
    "scrolled": false
   },
   "outputs": [
    {
     "data": {
      "text/html": [
       "<div>\n",
       "<style scoped>\n",
       "    .dataframe tbody tr th:only-of-type {\n",
       "        vertical-align: middle;\n",
       "    }\n",
       "\n",
       "    .dataframe tbody tr th {\n",
       "        vertical-align: top;\n",
       "    }\n",
       "\n",
       "    .dataframe thead th {\n",
       "        text-align: right;\n",
       "    }\n",
       "</style>\n",
       "<table border=\"1\" class=\"dataframe\">\n",
       "  <thead>\n",
       "    <tr style=\"text-align: right;\">\n",
       "      <th></th>\n",
       "      <th>age</th>\n",
       "      <th>gender</th>\n",
       "      <th>weight</th>\n",
       "      <th>BP</th>\n",
       "      <th>Sugar</th>\n",
       "      <th>Red_blood_cells</th>\n",
       "      <th>Hemoglobin</th>\n",
       "      <th>Hemocratic</th>\n",
       "      <th>Mean Corpuscular Volume</th>\n",
       "      <th>Mean Corpuscular Hemoglobin</th>\n",
       "      <th>White blood Cells</th>\n",
       "      <th>Neutrophils</th>\n",
       "      <th>Lymphocytes</th>\n",
       "      <th>Monocytes</th>\n",
       "      <th>Blood Group</th>\n",
       "      <th>class</th>\n",
       "    </tr>\n",
       "  </thead>\n",
       "  <tbody>\n",
       "    <tr>\n",
       "      <th>0</th>\n",
       "      <td>3</td>\n",
       "      <td>1</td>\n",
       "      <td>26</td>\n",
       "      <td>122</td>\n",
       "      <td>200</td>\n",
       "      <td>421848</td>\n",
       "      <td>11</td>\n",
       "      <td>31</td>\n",
       "      <td>71</td>\n",
       "      <td>36</td>\n",
       "      <td>212278</td>\n",
       "      <td>47</td>\n",
       "      <td>44</td>\n",
       "      <td>4</td>\n",
       "      <td>6</td>\n",
       "      <td>1</td>\n",
       "    </tr>\n",
       "    <tr>\n",
       "      <th>1</th>\n",
       "      <td>2</td>\n",
       "      <td>1</td>\n",
       "      <td>12</td>\n",
       "      <td>161</td>\n",
       "      <td>106</td>\n",
       "      <td>461931</td>\n",
       "      <td>10</td>\n",
       "      <td>35</td>\n",
       "      <td>70</td>\n",
       "      <td>32</td>\n",
       "      <td>337808</td>\n",
       "      <td>48</td>\n",
       "      <td>46</td>\n",
       "      <td>1</td>\n",
       "      <td>1</td>\n",
       "      <td>1</td>\n",
       "    </tr>\n",
       "    <tr>\n",
       "      <th>2</th>\n",
       "      <td>4</td>\n",
       "      <td>0</td>\n",
       "      <td>31</td>\n",
       "      <td>198</td>\n",
       "      <td>183</td>\n",
       "      <td>513483</td>\n",
       "      <td>13</td>\n",
       "      <td>41</td>\n",
       "      <td>72</td>\n",
       "      <td>32</td>\n",
       "      <td>397533</td>\n",
       "      <td>52</td>\n",
       "      <td>47</td>\n",
       "      <td>2</td>\n",
       "      <td>6</td>\n",
       "      <td>1</td>\n",
       "    </tr>\n",
       "    <tr>\n",
       "      <th>3</th>\n",
       "      <td>10</td>\n",
       "      <td>0</td>\n",
       "      <td>9</td>\n",
       "      <td>112</td>\n",
       "      <td>84</td>\n",
       "      <td>437914</td>\n",
       "      <td>11</td>\n",
       "      <td>38</td>\n",
       "      <td>89</td>\n",
       "      <td>36</td>\n",
       "      <td>227254</td>\n",
       "      <td>48</td>\n",
       "      <td>45</td>\n",
       "      <td>5</td>\n",
       "      <td>7</td>\n",
       "      <td>1</td>\n",
       "    </tr>\n",
       "    <tr>\n",
       "      <th>4</th>\n",
       "      <td>8</td>\n",
       "      <td>1</td>\n",
       "      <td>22</td>\n",
       "      <td>106</td>\n",
       "      <td>140</td>\n",
       "      <td>495415</td>\n",
       "      <td>12</td>\n",
       "      <td>35</td>\n",
       "      <td>93</td>\n",
       "      <td>33</td>\n",
       "      <td>471874</td>\n",
       "      <td>56</td>\n",
       "      <td>47</td>\n",
       "      <td>8</td>\n",
       "      <td>6</td>\n",
       "      <td>1</td>\n",
       "    </tr>\n",
       "    <tr>\n",
       "      <th>...</th>\n",
       "      <td>...</td>\n",
       "      <td>...</td>\n",
       "      <td>...</td>\n",
       "      <td>...</td>\n",
       "      <td>...</td>\n",
       "      <td>...</td>\n",
       "      <td>...</td>\n",
       "      <td>...</td>\n",
       "      <td>...</td>\n",
       "      <td>...</td>\n",
       "      <td>...</td>\n",
       "      <td>...</td>\n",
       "      <td>...</td>\n",
       "      <td>...</td>\n",
       "      <td>...</td>\n",
       "      <td>...</td>\n",
       "    </tr>\n",
       "    <tr>\n",
       "      <th>5395</th>\n",
       "      <td>82</td>\n",
       "      <td>1</td>\n",
       "      <td>71</td>\n",
       "      <td>174</td>\n",
       "      <td>352</td>\n",
       "      <td>431637</td>\n",
       "      <td>10</td>\n",
       "      <td>39</td>\n",
       "      <td>92</td>\n",
       "      <td>36</td>\n",
       "      <td>298832</td>\n",
       "      <td>54</td>\n",
       "      <td>33</td>\n",
       "      <td>1</td>\n",
       "      <td>4</td>\n",
       "      <td>9</td>\n",
       "    </tr>\n",
       "    <tr>\n",
       "      <th>5396</th>\n",
       "      <td>81</td>\n",
       "      <td>1</td>\n",
       "      <td>57</td>\n",
       "      <td>159</td>\n",
       "      <td>241</td>\n",
       "      <td>390097</td>\n",
       "      <td>13</td>\n",
       "      <td>36</td>\n",
       "      <td>87</td>\n",
       "      <td>33</td>\n",
       "      <td>336348</td>\n",
       "      <td>69</td>\n",
       "      <td>40</td>\n",
       "      <td>8</td>\n",
       "      <td>5</td>\n",
       "      <td>9</td>\n",
       "    </tr>\n",
       "    <tr>\n",
       "      <th>5397</th>\n",
       "      <td>81</td>\n",
       "      <td>0</td>\n",
       "      <td>62</td>\n",
       "      <td>181</td>\n",
       "      <td>201</td>\n",
       "      <td>502799</td>\n",
       "      <td>16</td>\n",
       "      <td>45</td>\n",
       "      <td>92</td>\n",
       "      <td>36</td>\n",
       "      <td>216661</td>\n",
       "      <td>60</td>\n",
       "      <td>30</td>\n",
       "      <td>3</td>\n",
       "      <td>4</td>\n",
       "      <td>9</td>\n",
       "    </tr>\n",
       "    <tr>\n",
       "      <th>5398</th>\n",
       "      <td>83</td>\n",
       "      <td>0</td>\n",
       "      <td>78</td>\n",
       "      <td>146</td>\n",
       "      <td>459</td>\n",
       "      <td>453586</td>\n",
       "      <td>14</td>\n",
       "      <td>35</td>\n",
       "      <td>94</td>\n",
       "      <td>35</td>\n",
       "      <td>125565</td>\n",
       "      <td>47</td>\n",
       "      <td>42</td>\n",
       "      <td>0</td>\n",
       "      <td>8</td>\n",
       "      <td>9</td>\n",
       "    </tr>\n",
       "    <tr>\n",
       "      <th>5399</th>\n",
       "      <td>84</td>\n",
       "      <td>1</td>\n",
       "      <td>65</td>\n",
       "      <td>90</td>\n",
       "      <td>454</td>\n",
       "      <td>468285</td>\n",
       "      <td>10</td>\n",
       "      <td>34</td>\n",
       "      <td>85</td>\n",
       "      <td>35</td>\n",
       "      <td>165389</td>\n",
       "      <td>48</td>\n",
       "      <td>35</td>\n",
       "      <td>0</td>\n",
       "      <td>7</td>\n",
       "      <td>9</td>\n",
       "    </tr>\n",
       "  </tbody>\n",
       "</table>\n",
       "<p>5400 rows × 16 columns</p>\n",
       "</div>"
      ],
      "text/plain": [
       "      age  gender  weight   BP  Sugar  Red_blood_cells  Hemoglobin  \\\n",
       "0       3       1      26  122    200           421848          11   \n",
       "1       2       1      12  161    106           461931          10   \n",
       "2       4       0      31  198    183           513483          13   \n",
       "3      10       0       9  112     84           437914          11   \n",
       "4       8       1      22  106    140           495415          12   \n",
       "...   ...     ...     ...  ...    ...              ...         ...   \n",
       "5395   82       1      71  174    352           431637          10   \n",
       "5396   81       1      57  159    241           390097          13   \n",
       "5397   81       0      62  181    201           502799          16   \n",
       "5398   83       0      78  146    459           453586          14   \n",
       "5399   84       1      65   90    454           468285          10   \n",
       "\n",
       "      Hemocratic  Mean Corpuscular Volume  Mean Corpuscular Hemoglobin  \\\n",
       "0             31                       71                           36   \n",
       "1             35                       70                           32   \n",
       "2             41                       72                           32   \n",
       "3             38                       89                           36   \n",
       "4             35                       93                           33   \n",
       "...          ...                      ...                          ...   \n",
       "5395          39                       92                           36   \n",
       "5396          36                       87                           33   \n",
       "5397          45                       92                           36   \n",
       "5398          35                       94                           35   \n",
       "5399          34                       85                           35   \n",
       "\n",
       "      White blood Cells  Neutrophils  Lymphocytes  Monocytes  Blood Group  \\\n",
       "0                212278           47           44          4            6   \n",
       "1                337808           48           46          1            1   \n",
       "2                397533           52           47          2            6   \n",
       "3                227254           48           45          5            7   \n",
       "4                471874           56           47          8            6   \n",
       "...                 ...          ...          ...        ...          ...   \n",
       "5395             298832           54           33          1            4   \n",
       "5396             336348           69           40          8            5   \n",
       "5397             216661           60           30          3            4   \n",
       "5398             125565           47           42          0            8   \n",
       "5399             165389           48           35          0            7   \n",
       "\n",
       "      class  \n",
       "0         1  \n",
       "1         1  \n",
       "2         1  \n",
       "3         1  \n",
       "4         1  \n",
       "...     ...  \n",
       "5395      9  \n",
       "5396      9  \n",
       "5397      9  \n",
       "5398      9  \n",
       "5399      9  \n",
       "\n",
       "[5400 rows x 16 columns]"
      ]
     },
     "execution_count": 3,
     "metadata": {},
     "output_type": "execute_result"
    }
   ],
   "source": [
    "data"
   ]
  },
  {
   "cell_type": "code",
   "execution_count": 4,
   "id": "01587861",
   "metadata": {
    "scrolled": true
   },
   "outputs": [
    {
     "data": {
      "text/plain": [
       "Index(['age', 'gender', 'weight', 'BP', 'Sugar', 'Red_blood_cells',\n",
       "       'Hemoglobin', 'Hemocratic', 'Mean Corpuscular Volume',\n",
       "       'Mean Corpuscular Hemoglobin', 'White blood Cells', 'Neutrophils',\n",
       "       'Lymphocytes', 'Monocytes', 'Blood Group', 'class'],\n",
       "      dtype='object')"
      ]
     },
     "execution_count": 4,
     "metadata": {},
     "output_type": "execute_result"
    }
   ],
   "source": [
    "data.columns"
   ]
  },
  {
   "cell_type": "code",
   "execution_count": 5,
   "id": "55ad9da2",
   "metadata": {
    "scrolled": true
   },
   "outputs": [
    {
     "data": {
      "text/plain": [
       "(5400, 16)"
      ]
     },
     "execution_count": 5,
     "metadata": {},
     "output_type": "execute_result"
    }
   ],
   "source": [
    "data.shape"
   ]
  },
  {
   "cell_type": "code",
   "execution_count": 6,
   "id": "39c506da",
   "metadata": {
    "scrolled": true
   },
   "outputs": [
    {
     "data": {
      "text/html": [
       "<div>\n",
       "<style scoped>\n",
       "    .dataframe tbody tr th:only-of-type {\n",
       "        vertical-align: middle;\n",
       "    }\n",
       "\n",
       "    .dataframe tbody tr th {\n",
       "        vertical-align: top;\n",
       "    }\n",
       "\n",
       "    .dataframe thead th {\n",
       "        text-align: right;\n",
       "    }\n",
       "</style>\n",
       "<table border=\"1\" class=\"dataframe\">\n",
       "  <thead>\n",
       "    <tr style=\"text-align: right;\">\n",
       "      <th></th>\n",
       "      <th>age</th>\n",
       "      <th>gender</th>\n",
       "      <th>weight</th>\n",
       "      <th>BP</th>\n",
       "      <th>Sugar</th>\n",
       "      <th>Red_blood_cells</th>\n",
       "      <th>Hemoglobin</th>\n",
       "      <th>Hemocratic</th>\n",
       "      <th>Mean Corpuscular Volume</th>\n",
       "      <th>Mean Corpuscular Hemoglobin</th>\n",
       "      <th>White blood Cells</th>\n",
       "      <th>Neutrophils</th>\n",
       "      <th>Lymphocytes</th>\n",
       "      <th>Monocytes</th>\n",
       "      <th>Blood Group</th>\n",
       "      <th>class</th>\n",
       "    </tr>\n",
       "  </thead>\n",
       "  <tbody>\n",
       "    <tr>\n",
       "      <th>count</th>\n",
       "      <td>5400.000000</td>\n",
       "      <td>5400.000000</td>\n",
       "      <td>5400.000000</td>\n",
       "      <td>5400.000000</td>\n",
       "      <td>5400.000000</td>\n",
       "      <td>5400.000000</td>\n",
       "      <td>5400.000000</td>\n",
       "      <td>5400.000000</td>\n",
       "      <td>5400.000000</td>\n",
       "      <td>5400.000000</td>\n",
       "      <td>5400.000000</td>\n",
       "      <td>5400.000000</td>\n",
       "      <td>5400.000000</td>\n",
       "      <td>5400.000000</td>\n",
       "      <td>5400.000000</td>\n",
       "      <td>5400.000000</td>\n",
       "    </tr>\n",
       "    <tr>\n",
       "      <th>mean</th>\n",
       "      <td>44.863333</td>\n",
       "      <td>0.494444</td>\n",
       "      <td>53.848889</td>\n",
       "      <td>139.517778</td>\n",
       "      <td>217.862222</td>\n",
       "      <td>449214.461111</td>\n",
       "      <td>13.182222</td>\n",
       "      <td>40.476667</td>\n",
       "      <td>88.006667</td>\n",
       "      <td>33.971111</td>\n",
       "      <td>269314.613333</td>\n",
       "      <td>55.925556</td>\n",
       "      <td>38.983333</td>\n",
       "      <td>4.008889</td>\n",
       "      <td>4.567778</td>\n",
       "      <td>5.000000</td>\n",
       "    </tr>\n",
       "    <tr>\n",
       "      <th>std</th>\n",
       "      <td>25.931882</td>\n",
       "      <td>0.500015</td>\n",
       "      <td>16.488540</td>\n",
       "      <td>34.794484</td>\n",
       "      <td>104.629640</td>\n",
       "      <td>40013.451967</td>\n",
       "      <td>2.211317</td>\n",
       "      <td>4.808368</td>\n",
       "      <td>5.975683</td>\n",
       "      <td>1.434338</td>\n",
       "      <td>91989.566936</td>\n",
       "      <td>10.340849</td>\n",
       "      <td>6.183951</td>\n",
       "      <td>2.589519</td>\n",
       "      <td>2.307416</td>\n",
       "      <td>2.582228</td>\n",
       "    </tr>\n",
       "    <tr>\n",
       "      <th>min</th>\n",
       "      <td>1.000000</td>\n",
       "      <td>0.000000</td>\n",
       "      <td>7.000000</td>\n",
       "      <td>80.000000</td>\n",
       "      <td>80.000000</td>\n",
       "      <td>380072.000000</td>\n",
       "      <td>10.000000</td>\n",
       "      <td>30.000000</td>\n",
       "      <td>70.000000</td>\n",
       "      <td>32.000000</td>\n",
       "      <td>125288.000000</td>\n",
       "      <td>14.000000</td>\n",
       "      <td>28.000000</td>\n",
       "      <td>0.000000</td>\n",
       "      <td>1.000000</td>\n",
       "      <td>1.000000</td>\n",
       "    </tr>\n",
       "    <tr>\n",
       "      <th>25%</th>\n",
       "      <td>22.000000</td>\n",
       "      <td>0.000000</td>\n",
       "      <td>43.000000</td>\n",
       "      <td>109.000000</td>\n",
       "      <td>137.000000</td>\n",
       "      <td>413930.750000</td>\n",
       "      <td>11.000000</td>\n",
       "      <td>36.000000</td>\n",
       "      <td>83.000000</td>\n",
       "      <td>33.000000</td>\n",
       "      <td>193113.500000</td>\n",
       "      <td>48.000000</td>\n",
       "      <td>34.000000</td>\n",
       "      <td>2.000000</td>\n",
       "      <td>3.000000</td>\n",
       "      <td>3.000000</td>\n",
       "    </tr>\n",
       "    <tr>\n",
       "      <th>50%</th>\n",
       "      <td>46.000000</td>\n",
       "      <td>0.000000</td>\n",
       "      <td>54.000000</td>\n",
       "      <td>139.000000</td>\n",
       "      <td>189.000000</td>\n",
       "      <td>449984.000000</td>\n",
       "      <td>13.000000</td>\n",
       "      <td>40.000000</td>\n",
       "      <td>88.000000</td>\n",
       "      <td>34.000000</td>\n",
       "      <td>266992.000000</td>\n",
       "      <td>56.000000</td>\n",
       "      <td>39.000000</td>\n",
       "      <td>4.000000</td>\n",
       "      <td>5.000000</td>\n",
       "      <td>5.000000</td>\n",
       "    </tr>\n",
       "    <tr>\n",
       "      <th>75%</th>\n",
       "      <td>67.000000</td>\n",
       "      <td>1.000000</td>\n",
       "      <td>67.000000</td>\n",
       "      <td>169.000000</td>\n",
       "      <td>287.500000</td>\n",
       "      <td>482816.500000</td>\n",
       "      <td>15.000000</td>\n",
       "      <td>44.000000</td>\n",
       "      <td>93.000000</td>\n",
       "      <td>35.000000</td>\n",
       "      <td>334881.500000</td>\n",
       "      <td>65.000000</td>\n",
       "      <td>44.250000</td>\n",
       "      <td>6.000000</td>\n",
       "      <td>7.000000</td>\n",
       "      <td>7.000000</td>\n",
       "    </tr>\n",
       "    <tr>\n",
       "      <th>max</th>\n",
       "      <td>90.000000</td>\n",
       "      <td>1.000000</td>\n",
       "      <td>80.000000</td>\n",
       "      <td>200.000000</td>\n",
       "      <td>480.000000</td>\n",
       "      <td>519930.000000</td>\n",
       "      <td>17.000000</td>\n",
       "      <td>49.000000</td>\n",
       "      <td>98.000000</td>\n",
       "      <td>36.000000</td>\n",
       "      <td>599829.000000</td>\n",
       "      <td>72.000000</td>\n",
       "      <td>48.000000</td>\n",
       "      <td>8.000000</td>\n",
       "      <td>8.000000</td>\n",
       "      <td>9.000000</td>\n",
       "    </tr>\n",
       "  </tbody>\n",
       "</table>\n",
       "</div>"
      ],
      "text/plain": [
       "               age       gender       weight           BP        Sugar  \\\n",
       "count  5400.000000  5400.000000  5400.000000  5400.000000  5400.000000   \n",
       "mean     44.863333     0.494444    53.848889   139.517778   217.862222   \n",
       "std      25.931882     0.500015    16.488540    34.794484   104.629640   \n",
       "min       1.000000     0.000000     7.000000    80.000000    80.000000   \n",
       "25%      22.000000     0.000000    43.000000   109.000000   137.000000   \n",
       "50%      46.000000     0.000000    54.000000   139.000000   189.000000   \n",
       "75%      67.000000     1.000000    67.000000   169.000000   287.500000   \n",
       "max      90.000000     1.000000    80.000000   200.000000   480.000000   \n",
       "\n",
       "       Red_blood_cells   Hemoglobin   Hemocratic  Mean Corpuscular Volume  \\\n",
       "count      5400.000000  5400.000000  5400.000000              5400.000000   \n",
       "mean     449214.461111    13.182222    40.476667                88.006667   \n",
       "std       40013.451967     2.211317     4.808368                 5.975683   \n",
       "min      380072.000000    10.000000    30.000000                70.000000   \n",
       "25%      413930.750000    11.000000    36.000000                83.000000   \n",
       "50%      449984.000000    13.000000    40.000000                88.000000   \n",
       "75%      482816.500000    15.000000    44.000000                93.000000   \n",
       "max      519930.000000    17.000000    49.000000                98.000000   \n",
       "\n",
       "       Mean Corpuscular Hemoglobin  White blood Cells  Neutrophils  \\\n",
       "count                  5400.000000        5400.000000  5400.000000   \n",
       "mean                     33.971111      269314.613333    55.925556   \n",
       "std                       1.434338       91989.566936    10.340849   \n",
       "min                      32.000000      125288.000000    14.000000   \n",
       "25%                      33.000000      193113.500000    48.000000   \n",
       "50%                      34.000000      266992.000000    56.000000   \n",
       "75%                      35.000000      334881.500000    65.000000   \n",
       "max                      36.000000      599829.000000    72.000000   \n",
       "\n",
       "       Lymphocytes    Monocytes  Blood Group        class  \n",
       "count  5400.000000  5400.000000  5400.000000  5400.000000  \n",
       "mean     38.983333     4.008889     4.567778     5.000000  \n",
       "std       6.183951     2.589519     2.307416     2.582228  \n",
       "min      28.000000     0.000000     1.000000     1.000000  \n",
       "25%      34.000000     2.000000     3.000000     3.000000  \n",
       "50%      39.000000     4.000000     5.000000     5.000000  \n",
       "75%      44.250000     6.000000     7.000000     7.000000  \n",
       "max      48.000000     8.000000     8.000000     9.000000  "
      ]
     },
     "execution_count": 6,
     "metadata": {},
     "output_type": "execute_result"
    }
   ],
   "source": [
    "data.describe()"
   ]
  },
  {
   "cell_type": "code",
   "execution_count": 7,
   "id": "35c91816",
   "metadata": {
    "scrolled": true
   },
   "outputs": [
    {
     "data": {
      "text/plain": [
       "age                            0\n",
       "gender                         0\n",
       "weight                         0\n",
       "BP                             0\n",
       "Sugar                          0\n",
       "Red_blood_cells                0\n",
       "Hemoglobin                     0\n",
       "Hemocratic                     0\n",
       "Mean Corpuscular Volume        0\n",
       "Mean Corpuscular Hemoglobin    0\n",
       "White blood Cells              0\n",
       "Neutrophils                    0\n",
       "Lymphocytes                    0\n",
       "Monocytes                      0\n",
       "Blood Group                    0\n",
       "class                          0\n",
       "dtype: int64"
      ]
     },
     "execution_count": 7,
     "metadata": {},
     "output_type": "execute_result"
    }
   ],
   "source": [
    "data.isnull().sum()"
   ]
  },
  {
   "cell_type": "code",
   "execution_count": 8,
   "id": "6bd5af32",
   "metadata": {
    "scrolled": true
   },
   "outputs": [
    {
     "name": "stderr",
     "output_type": "stream",
     "text": [
      "C:\\Users\\admin\\anaconda3\\lib\\site-packages\\seaborn\\_decorators.py:36: FutureWarning: Pass the following variable as a keyword arg: x. From version 0.12, the only valid positional argument will be `data`, and passing other arguments without an explicit keyword will result in an error or misinterpretation.\n",
      "  warnings.warn(\n"
     ]
    },
    {
     "data": {
      "text/plain": [
       "<AxesSubplot:xlabel='age'>"
      ]
     },
     "execution_count": 8,
     "metadata": {},
     "output_type": "execute_result"
    },
    {
     "data": {
      "image/png": "[encoded data removed]",
      "text/plain": [
       "<Figure size 432x288 with 1 Axes>"
      ]
     },
     "metadata": {
      "needs_background": "light"
     },
     "output_type": "display_data"
    }
   ],
   "source": [
    "sns.boxplot(data['age'])"
   ]
  },
  {
   "cell_type": "code",
   "execution_count": 9,
   "id": "e30bdf0c",
   "metadata": {
    "scrolled": true
   },
   "outputs": [
    {
     "name": "stderr",
     "output_type": "stream",
     "text": [
      "C:\\Users\\admin\\anaconda3\\lib\\site-packages\\seaborn\\_decorators.py:36: FutureWarning: Pass the following variable as a keyword arg: x. From version 0.12, the only valid positional argument will be `data`, and passing other arguments without an explicit keyword will result in an error or misinterpretation.\n",
      "  warnings.warn(\n"
     ]
    },
    {
     "data": {
      "text/plain": [
       "<AxesSubplot:xlabel='weight'>"
      ]
     },
     "execution_count": 9,
     "metadata": {},
     "output_type": "execute_result"
    },
    {
     "data": {
      "image/png": "[encoded data removed]",
      "text/plain": [
       "<Figure size 432x288 with 1 Axes>"
      ]
     },
     "metadata": {
      "needs_background": "light"
     },
     "output_type": "display_data"
    }
   ],
   "source": [
    "sns.boxplot(data['weight'])"
   ]
  },
  {
   "cell_type": "code",
   "execution_count": 10,
   "id": "a17e000b",
   "metadata": {
    "scrolled": true
   },
   "outputs": [
    {
     "data": {
      "text/plain": [
       "<AxesSubplot:xlabel='class', ylabel='age'>"
      ]
     },
     "execution_count": 10,
     "metadata": {},
     "output_type": "execute_result"
    },
    {
     "data": {
      "image/png": "[encoded data removed]",
      "text/plain": [
       "<Figure size 432x288 with 1 Axes>"
      ]
     },
     "metadata": {
      "needs_background": "light"
     },
     "output_type": "display_data"
    }
   ],
   "source": [
    "sns.boxplot(x=data['class'],y=data['age'], data=data)"
   ]
  },
  {
   "cell_type": "code",
   "execution_count": 11,
   "id": "c2ee386b",
   "metadata": {
    "scrolled": true
   },
   "outputs": [
    {
     "data": {
      "text/plain": [
       "<AxesSubplot:xlabel='class', ylabel='Sugar'>"
      ]
     },
     "execution_count": 11,
     "metadata": {},
     "output_type": "execute_result"
    },
    {
     "data": {
      "image/png": "[encoded data removed]",
      "text/plain": [
       "<Figure size 432x288 with 1 Axes>"
      ]
     },
     "metadata": {
      "needs_background": "light"
     },
     "output_type": "display_data"
    }
   ],
   "source": [
    "sns.boxplot(x=data['class'],y=data['Sugar'], data=data)"
   ]
  },
  {
   "cell_type": "code",
   "execution_count": 12,
   "id": "52412f6f",
   "metadata": {
    "scrolled": true
   },
   "outputs": [
    {
     "name": "stderr",
     "output_type": "stream",
     "text": [
      "C:\\Users\\admin\\anaconda3\\lib\\site-packages\\openpyxl\\styles\\stylesheet.py:226: UserWarning: Workbook contains no default style, apply openpyxl's default\n",
      "  warn(\"Workbook contains no default style, apply openpyxl's default\")\n"
     ]
    }
   ],
   "source": [
    "data=pd.read_excel(r'D:\\2022BE Projects\\healthy\\Healthy Food\\bloodupdated.xlsx')"
   ]
  },
  {
   "cell_type": "code",
   "execution_count": 13,
   "id": "08921897",
   "metadata": {
    "scrolled": false
   },
   "outputs": [
    {
     "data": {
      "text/html": [
       "<div>\n",
       "<style scoped>\n",
       "    .dataframe tbody tr th:only-of-type {\n",
       "        vertical-align: middle;\n",
       "    }\n",
       "\n",
       "    .dataframe tbody tr th {\n",
       "        vertical-align: top;\n",
       "    }\n",
       "\n",
       "    .dataframe thead th {\n",
       "        text-align: right;\n",
       "    }\n",
       "</style>\n",
       "<table border=\"1\" class=\"dataframe\">\n",
       "  <thead>\n",
       "    <tr style=\"text-align: right;\">\n",
       "      <th></th>\n",
       "      <th>Age</th>\n",
       "      <th>Gender</th>\n",
       "      <th>Weight</th>\n",
       "      <th>Blood Group</th>\n",
       "      <th>B#P</th>\n",
       "      <th>Sugar</th>\n",
       "      <th>Red Blood Celles</th>\n",
       "      <th>White Blood Cells</th>\n",
       "      <th>Hemoglobin</th>\n",
       "      <th>Platets</th>\n",
       "      <th>Hematocrit</th>\n",
       "      <th>cholesterol</th>\n",
       "      <th>LDL</th>\n",
       "      <th>HDL</th>\n",
       "      <th>Triglycerides</th>\n",
       "      <th>protein</th>\n",
       "      <th>class</th>\n",
       "    </tr>\n",
       "  </thead>\n",
       "  <tbody>\n",
       "    <tr>\n",
       "      <th>0</th>\n",
       "      <td>6.0</td>\n",
       "      <td>0.0</td>\n",
       "      <td>25.0</td>\n",
       "      <td>6.0</td>\n",
       "      <td>79.0</td>\n",
       "      <td>72.0</td>\n",
       "      <td>3063716.0</td>\n",
       "      <td>1125643.0</td>\n",
       "      <td>11.0</td>\n",
       "      <td>332322.0</td>\n",
       "      <td>38.0</td>\n",
       "      <td>59.929</td>\n",
       "      <td>71.367</td>\n",
       "      <td>61.956</td>\n",
       "      <td>122.641</td>\n",
       "      <td>6.8</td>\n",
       "      <td>1.0</td>\n",
       "    </tr>\n",
       "    <tr>\n",
       "      <th>1</th>\n",
       "      <td>5.0</td>\n",
       "      <td>0.0</td>\n",
       "      <td>25.0</td>\n",
       "      <td>2.0</td>\n",
       "      <td>94.0</td>\n",
       "      <td>83.0</td>\n",
       "      <td>512685.0</td>\n",
       "      <td>1435616.0</td>\n",
       "      <td>12.0</td>\n",
       "      <td>323412.0</td>\n",
       "      <td>39.0</td>\n",
       "      <td>76.867</td>\n",
       "      <td>97.045</td>\n",
       "      <td>51.441</td>\n",
       "      <td>135.273</td>\n",
       "      <td>8.2</td>\n",
       "      <td>1.0</td>\n",
       "    </tr>\n",
       "    <tr>\n",
       "      <th>2</th>\n",
       "      <td>4.0</td>\n",
       "      <td>1.0</td>\n",
       "      <td>15.0</td>\n",
       "      <td>5.0</td>\n",
       "      <td>75.0</td>\n",
       "      <td>78.0</td>\n",
       "      <td>3798331.0</td>\n",
       "      <td>870172.0</td>\n",
       "      <td>11.0</td>\n",
       "      <td>304303.0</td>\n",
       "      <td>43.0</td>\n",
       "      <td>125.029</td>\n",
       "      <td>81.812</td>\n",
       "      <td>78.282</td>\n",
       "      <td>120.275</td>\n",
       "      <td>7.6</td>\n",
       "      <td>1.0</td>\n",
       "    </tr>\n",
       "    <tr>\n",
       "      <th>3</th>\n",
       "      <td>7.0</td>\n",
       "      <td>1.0</td>\n",
       "      <td>21.0</td>\n",
       "      <td>2.0</td>\n",
       "      <td>79.0</td>\n",
       "      <td>72.0</td>\n",
       "      <td>2292939.0</td>\n",
       "      <td>947479.0</td>\n",
       "      <td>12.0</td>\n",
       "      <td>325418.0</td>\n",
       "      <td>35.0</td>\n",
       "      <td>65.599</td>\n",
       "      <td>70.775</td>\n",
       "      <td>50.772</td>\n",
       "      <td>77.806</td>\n",
       "      <td>6.3</td>\n",
       "      <td>1.0</td>\n",
       "    </tr>\n",
       "    <tr>\n",
       "      <th>4</th>\n",
       "      <td>10.0</td>\n",
       "      <td>0.0</td>\n",
       "      <td>16.0</td>\n",
       "      <td>8.0</td>\n",
       "      <td>82.0</td>\n",
       "      <td>91.0</td>\n",
       "      <td>3290023.0</td>\n",
       "      <td>1019657.0</td>\n",
       "      <td>14.0</td>\n",
       "      <td>329914.0</td>\n",
       "      <td>45.0</td>\n",
       "      <td>78.340</td>\n",
       "      <td>78.302</td>\n",
       "      <td>74.013</td>\n",
       "      <td>103.205</td>\n",
       "      <td>6.7</td>\n",
       "      <td>1.0</td>\n",
       "    </tr>\n",
       "    <tr>\n",
       "      <th>...</th>\n",
       "      <td>...</td>\n",
       "      <td>...</td>\n",
       "      <td>...</td>\n",
       "      <td>...</td>\n",
       "      <td>...</td>\n",
       "      <td>...</td>\n",
       "      <td>...</td>\n",
       "      <td>...</td>\n",
       "      <td>...</td>\n",
       "      <td>...</td>\n",
       "      <td>...</td>\n",
       "      <td>...</td>\n",
       "      <td>...</td>\n",
       "      <td>...</td>\n",
       "      <td>...</td>\n",
       "      <td>...</td>\n",
       "      <td>...</td>\n",
       "    </tr>\n",
       "    <tr>\n",
       "      <th>995</th>\n",
       "      <td>95.0</td>\n",
       "      <td>1.0</td>\n",
       "      <td>90.0</td>\n",
       "      <td>2.0</td>\n",
       "      <td>116.0</td>\n",
       "      <td>141.0</td>\n",
       "      <td>2148135.0</td>\n",
       "      <td>1310739.0</td>\n",
       "      <td>12.0</td>\n",
       "      <td>164130.0</td>\n",
       "      <td>73.0</td>\n",
       "      <td>152.639</td>\n",
       "      <td>97.599</td>\n",
       "      <td>57.376</td>\n",
       "      <td>124.924</td>\n",
       "      <td>7.1</td>\n",
       "      <td>10.0</td>\n",
       "    </tr>\n",
       "    <tr>\n",
       "      <th>996</th>\n",
       "      <td>99.0</td>\n",
       "      <td>0.0</td>\n",
       "      <td>66.0</td>\n",
       "      <td>2.0</td>\n",
       "      <td>89.0</td>\n",
       "      <td>239.0</td>\n",
       "      <td>4665051.0</td>\n",
       "      <td>1209552.0</td>\n",
       "      <td>11.0</td>\n",
       "      <td>345051.0</td>\n",
       "      <td>39.0</td>\n",
       "      <td>199.013</td>\n",
       "      <td>99.670</td>\n",
       "      <td>72.818</td>\n",
       "      <td>93.534</td>\n",
       "      <td>6.7</td>\n",
       "      <td>10.0</td>\n",
       "    </tr>\n",
       "    <tr>\n",
       "      <th>997</th>\n",
       "      <td>92.0</td>\n",
       "      <td>0.0</td>\n",
       "      <td>80.0</td>\n",
       "      <td>5.0</td>\n",
       "      <td>92.0</td>\n",
       "      <td>113.0</td>\n",
       "      <td>3017320.0</td>\n",
       "      <td>1437810.0</td>\n",
       "      <td>13.0</td>\n",
       "      <td>331076.0</td>\n",
       "      <td>40.0</td>\n",
       "      <td>129.734</td>\n",
       "      <td>70.167</td>\n",
       "      <td>93.170</td>\n",
       "      <td>121.246</td>\n",
       "      <td>6.5</td>\n",
       "      <td>10.0</td>\n",
       "    </tr>\n",
       "    <tr>\n",
       "      <th>998</th>\n",
       "      <td>92.0</td>\n",
       "      <td>1.0</td>\n",
       "      <td>47.0</td>\n",
       "      <td>3.0</td>\n",
       "      <td>144.0</td>\n",
       "      <td>90.0</td>\n",
       "      <td>5009290.0</td>\n",
       "      <td>1330804.0</td>\n",
       "      <td>11.0</td>\n",
       "      <td>288525.0</td>\n",
       "      <td>72.0</td>\n",
       "      <td>139.862</td>\n",
       "      <td>74.329</td>\n",
       "      <td>77.512</td>\n",
       "      <td>112.643</td>\n",
       "      <td>6.2</td>\n",
       "      <td>10.0</td>\n",
       "    </tr>\n",
       "    <tr>\n",
       "      <th>999</th>\n",
       "      <td>95.0</td>\n",
       "      <td>0.0</td>\n",
       "      <td>66.0</td>\n",
       "      <td>4.0</td>\n",
       "      <td>132.0</td>\n",
       "      <td>159.0</td>\n",
       "      <td>1626784.0</td>\n",
       "      <td>1163439.0</td>\n",
       "      <td>13.0</td>\n",
       "      <td>239290.0</td>\n",
       "      <td>70.0</td>\n",
       "      <td>126.630</td>\n",
       "      <td>78.744</td>\n",
       "      <td>63.050</td>\n",
       "      <td>124.480</td>\n",
       "      <td>6.8</td>\n",
       "      <td>10.0</td>\n",
       "    </tr>\n",
       "  </tbody>\n",
       "</table>\n",
       "<p>1000 rows × 17 columns</p>\n",
       "</div>"
      ],
      "text/plain": [
       "      Age  Gender  Weight  Blood Group    B#P  Sugar  Red Blood Celles  \\\n",
       "0     6.0     0.0    25.0          6.0   79.0   72.0         3063716.0   \n",
       "1     5.0     0.0    25.0          2.0   94.0   83.0          512685.0   \n",
       "2     4.0     1.0    15.0          5.0   75.0   78.0         3798331.0   \n",
       "3     7.0     1.0    21.0          2.0   79.0   72.0         2292939.0   \n",
       "4    10.0     0.0    16.0          8.0   82.0   91.0         3290023.0   \n",
       "..    ...     ...     ...          ...    ...    ...               ...   \n",
       "995  95.0     1.0    90.0          2.0  116.0  141.0         2148135.0   \n",
       "996  99.0     0.0    66.0          2.0   89.0  239.0         4665051.0   \n",
       "997  92.0     0.0    80.0          5.0   92.0  113.0         3017320.0   \n",
       "998  92.0     1.0    47.0          3.0  144.0   90.0         5009290.0   \n",
       "999  95.0     0.0    66.0          4.0  132.0  159.0         1626784.0   \n",
       "\n",
       "     White Blood Cells  Hemoglobin   Platets  Hematocrit  cholesterol     LDL  \\\n",
       "0            1125643.0        11.0  332322.0        38.0       59.929  71.367   \n",
       "1            1435616.0        12.0  323412.0        39.0       76.867  97.045   \n",
       "2             870172.0        11.0  304303.0        43.0      125.029  81.812   \n",
       "3             947479.0        12.0  325418.0        35.0       65.599  70.775   \n",
       "4            1019657.0        14.0  329914.0        45.0       78.340  78.302   \n",
       "..                 ...         ...       ...         ...          ...     ...   \n",
       "995          1310739.0        12.0  164130.0        73.0      152.639  97.599   \n",
       "996          1209552.0        11.0  345051.0        39.0      199.013  99.670   \n",
       "997          1437810.0        13.0  331076.0        40.0      129.734  70.167   \n",
       "998          1330804.0        11.0  288525.0        72.0      139.862  74.329   \n",
       "999          1163439.0        13.0  239290.0        70.0      126.630  78.744   \n",
       "\n",
       "        HDL  Triglycerides  protein  class  \n",
       "0    61.956        122.641      6.8    1.0  \n",
       "1    51.441        135.273      8.2    1.0  \n",
       "2    78.282        120.275      7.6    1.0  \n",
       "3    50.772         77.806      6.3    1.0  \n",
       "4    74.013        103.205      6.7    1.0  \n",
       "..      ...            ...      ...    ...  \n",
       "995  57.376        124.924      7.1   10.0  \n",
       "996  72.818         93.534      6.7   10.0  \n",
       "997  93.170        121.246      6.5   10.0  \n",
       "998  77.512        112.643      6.2   10.0  \n",
       "999  63.050        124.480      6.8   10.0  \n",
       "\n",
       "[1000 rows x 17 columns]"
      ]
     },
     "execution_count": 13,
     "metadata": {},
     "output_type": "execute_result"
    }
   ],
   "source": [
    "data"
   ]
  },
  {
   "cell_type": "code",
   "execution_count": 14,
   "id": "56ad821a",
   "metadata": {},
   "outputs": [
    {
     "data": {
      "text/plain": [
       "(1000, 17)"
      ]
     },
     "execution_count": 14,
     "metadata": {},
     "output_type": "execute_result"
    }
   ],
   "source": [
    "data.shape"
   ]
  },
  {
   "cell_type": "code",
   "execution_count": 15,
   "id": "df290d9c",
   "metadata": {
    "scrolled": true
   },
   "outputs": [
    {
     "data": {
      "text/plain": [
       "Index(['Age', 'Gender', 'Weight', 'Blood Group', 'B#P', 'Sugar',\n",
       "       'Red Blood Celles', 'White Blood Cells', 'Hemoglobin', 'Platets',\n",
       "       'Hematocrit', 'cholesterol', 'LDL', 'HDL', 'Triglycerides', 'protein',\n",
       "       'class'],\n",
       "      dtype='object')"
      ]
     },
     "execution_count": 15,
     "metadata": {},
     "output_type": "execute_result"
    }
   ],
   "source": [
    "data.columns"
   ]
  },
  {
   "cell_type": "code",
   "execution_count": 16,
   "id": "c09a6c3e",
   "metadata": {
    "scrolled": true
   },
   "outputs": [
    {
     "data": {
      "text/html": [
       "<div>\n",
       "<style scoped>\n",
       "    .dataframe tbody tr th:only-of-type {\n",
       "        vertical-align: middle;\n",
       "    }\n",
       "\n",
       "    .dataframe tbody tr th {\n",
       "        vertical-align: top;\n",
       "    }\n",
       "\n",
       "    .dataframe thead th {\n",
       "        text-align: right;\n",
       "    }\n",
       "</style>\n",
       "<table border=\"1\" class=\"dataframe\">\n",
       "  <thead>\n",
       "    <tr style=\"text-align: right;\">\n",
       "      <th></th>\n",
       "      <th>Age</th>\n",
       "      <th>Gender</th>\n",
       "      <th>Weight</th>\n",
       "      <th>Blood Group</th>\n",
       "      <th>B#P</th>\n",
       "      <th>Sugar</th>\n",
       "      <th>Red Blood Celles</th>\n",
       "      <th>White Blood Cells</th>\n",
       "      <th>Hemoglobin</th>\n",
       "      <th>Platets</th>\n",
       "      <th>Hematocrit</th>\n",
       "      <th>cholesterol</th>\n",
       "      <th>LDL</th>\n",
       "      <th>HDL</th>\n",
       "      <th>Triglycerides</th>\n",
       "      <th>protein</th>\n",
       "      <th>class</th>\n",
       "    </tr>\n",
       "  </thead>\n",
       "  <tbody>\n",
       "    <tr>\n",
       "      <th>count</th>\n",
       "      <td>1000.000000</td>\n",
       "      <td>1000.000000</td>\n",
       "      <td>1000.000000</td>\n",
       "      <td>1000.000000</td>\n",
       "      <td>1000.000000</td>\n",
       "      <td>1000.000000</td>\n",
       "      <td>1.000000e+03</td>\n",
       "      <td>1.000000e+03</td>\n",
       "      <td>1000.000000</td>\n",
       "      <td>1000.000000</td>\n",
       "      <td>1000.000000</td>\n",
       "      <td>1000.000000</td>\n",
       "      <td>1000.000000</td>\n",
       "      <td>1000.000000</td>\n",
       "      <td>1000.000000</td>\n",
       "      <td>1000.000000</td>\n",
       "      <td>1000.000000</td>\n",
       "    </tr>\n",
       "    <tr>\n",
       "      <th>mean</th>\n",
       "      <td>50.484000</td>\n",
       "      <td>0.501000</td>\n",
       "      <td>59.324000</td>\n",
       "      <td>4.463000</td>\n",
       "      <td>118.217000</td>\n",
       "      <td>140.123000</td>\n",
       "      <td>2.792644e+06</td>\n",
       "      <td>1.029009e+06</td>\n",
       "      <td>12.915000</td>\n",
       "      <td>298642.836000</td>\n",
       "      <td>53.094000</td>\n",
       "      <td>151.390885</td>\n",
       "      <td>84.854961</td>\n",
       "      <td>72.063547</td>\n",
       "      <td>113.550669</td>\n",
       "      <td>7.179300</td>\n",
       "      <td>5.500000</td>\n",
       "    </tr>\n",
       "    <tr>\n",
       "      <th>std</th>\n",
       "      <td>28.781593</td>\n",
       "      <td>0.500249</td>\n",
       "      <td>19.320774</td>\n",
       "      <td>2.320348</td>\n",
       "      <td>29.780443</td>\n",
       "      <td>50.733576</td>\n",
       "      <td>1.456030e+06</td>\n",
       "      <td>2.447632e+05</td>\n",
       "      <td>1.983358</td>\n",
       "      <td>88079.295788</td>\n",
       "      <td>12.371266</td>\n",
       "      <td>33.232610</td>\n",
       "      <td>8.794595</td>\n",
       "      <td>16.034614</td>\n",
       "      <td>21.966285</td>\n",
       "      <td>0.668767</td>\n",
       "      <td>2.873719</td>\n",
       "    </tr>\n",
       "    <tr>\n",
       "      <th>min</th>\n",
       "      <td>1.000000</td>\n",
       "      <td>0.000000</td>\n",
       "      <td>3.000000</td>\n",
       "      <td>1.000000</td>\n",
       "      <td>71.000000</td>\n",
       "      <td>70.000000</td>\n",
       "      <td>3.003490e+05</td>\n",
       "      <td>6.000430e+05</td>\n",
       "      <td>10.000000</td>\n",
       "      <td>150023.000000</td>\n",
       "      <td>30.000000</td>\n",
       "      <td>45.138000</td>\n",
       "      <td>70.053000</td>\n",
       "      <td>45.073000</td>\n",
       "      <td>75.003000</td>\n",
       "      <td>6.000000</td>\n",
       "      <td>1.000000</td>\n",
       "    </tr>\n",
       "    <tr>\n",
       "      <th>25%</th>\n",
       "      <td>25.000000</td>\n",
       "      <td>0.000000</td>\n",
       "      <td>47.000000</td>\n",
       "      <td>2.000000</td>\n",
       "      <td>93.000000</td>\n",
       "      <td>96.000000</td>\n",
       "      <td>1.529647e+06</td>\n",
       "      <td>8.256475e+05</td>\n",
       "      <td>11.000000</td>\n",
       "      <td>219629.250000</td>\n",
       "      <td>43.000000</td>\n",
       "      <td>134.065500</td>\n",
       "      <td>77.178750</td>\n",
       "      <td>58.302250</td>\n",
       "      <td>94.810250</td>\n",
       "      <td>6.600000</td>\n",
       "      <td>3.000000</td>\n",
       "    </tr>\n",
       "    <tr>\n",
       "      <th>50%</th>\n",
       "      <td>50.500000</td>\n",
       "      <td>1.000000</td>\n",
       "      <td>61.000000</td>\n",
       "      <td>5.000000</td>\n",
       "      <td>112.000000</td>\n",
       "      <td>127.500000</td>\n",
       "      <td>2.811233e+06</td>\n",
       "      <td>1.032892e+06</td>\n",
       "      <td>13.000000</td>\n",
       "      <td>300557.000000</td>\n",
       "      <td>52.000000</td>\n",
       "      <td>154.341500</td>\n",
       "      <td>84.882000</td>\n",
       "      <td>71.856000</td>\n",
       "      <td>113.458500</td>\n",
       "      <td>7.200000</td>\n",
       "      <td>5.500000</td>\n",
       "    </tr>\n",
       "    <tr>\n",
       "      <th>75%</th>\n",
       "      <td>75.000000</td>\n",
       "      <td>1.000000</td>\n",
       "      <td>75.000000</td>\n",
       "      <td>6.000000</td>\n",
       "      <td>140.000000</td>\n",
       "      <td>177.000000</td>\n",
       "      <td>4.063820e+06</td>\n",
       "      <td>1.245689e+06</td>\n",
       "      <td>15.000000</td>\n",
       "      <td>376193.250000</td>\n",
       "      <td>62.000000</td>\n",
       "      <td>175.790500</td>\n",
       "      <td>92.632000</td>\n",
       "      <td>84.623250</td>\n",
       "      <td>132.131500</td>\n",
       "      <td>7.700000</td>\n",
       "      <td>8.000000</td>\n",
       "    </tr>\n",
       "    <tr>\n",
       "      <th>max</th>\n",
       "      <td>100.000000</td>\n",
       "      <td>1.000000</td>\n",
       "      <td>90.000000</td>\n",
       "      <td>8.000000</td>\n",
       "      <td>180.000000</td>\n",
       "      <td>250.000000</td>\n",
       "      <td>5.197337e+06</td>\n",
       "      <td>1.449924e+06</td>\n",
       "      <td>16.000000</td>\n",
       "      <td>449778.000000</td>\n",
       "      <td>78.000000</td>\n",
       "      <td>289.273000</td>\n",
       "      <td>99.975000</td>\n",
       "      <td>144.004000</td>\n",
       "      <td>201.019000</td>\n",
       "      <td>9.800000</td>\n",
       "      <td>10.000000</td>\n",
       "    </tr>\n",
       "  </tbody>\n",
       "</table>\n",
       "</div>"
      ],
      "text/plain": [
       "               Age       Gender       Weight  Blood Group          B#P  \\\n",
       "count  1000.000000  1000.000000  1000.000000  1000.000000  1000.000000   \n",
       "mean     50.484000     0.501000    59.324000     4.463000   118.217000   \n",
       "std      28.781593     0.500249    19.320774     2.320348    29.780443   \n",
       "min       1.000000     0.000000     3.000000     1.000000    71.000000   \n",
       "25%      25.000000     0.000000    47.000000     2.000000    93.000000   \n",
       "50%      50.500000     1.000000    61.000000     5.000000   112.000000   \n",
       "75%      75.000000     1.000000    75.000000     6.000000   140.000000   \n",
       "max     100.000000     1.000000    90.000000     8.000000   180.000000   \n",
       "\n",
       "             Sugar  Red Blood Celles  White Blood Cells   Hemoglobin  \\\n",
       "count  1000.000000      1.000000e+03       1.000000e+03  1000.000000   \n",
       "mean    140.123000      2.792644e+06       1.029009e+06    12.915000   \n",
       "std      50.733576      1.456030e+06       2.447632e+05     1.983358   \n",
       "min      70.000000      3.003490e+05       6.000430e+05    10.000000   \n",
       "25%      96.000000      1.529647e+06       8.256475e+05    11.000000   \n",
       "50%     127.500000      2.811233e+06       1.032892e+06    13.000000   \n",
       "75%     177.000000      4.063820e+06       1.245689e+06    15.000000   \n",
       "max     250.000000      5.197337e+06       1.449924e+06    16.000000   \n",
       "\n",
       "             Platets   Hematocrit  cholesterol          LDL          HDL  \\\n",
       "count    1000.000000  1000.000000  1000.000000  1000.000000  1000.000000   \n",
       "mean   298642.836000    53.094000   151.390885    84.854961    72.063547   \n",
       "std     88079.295788    12.371266    33.232610     8.794595    16.034614   \n",
       "min    150023.000000    30.000000    45.138000    70.053000    45.073000   \n",
       "25%    219629.250000    43.000000   134.065500    77.178750    58.302250   \n",
       "50%    300557.000000    52.000000   154.341500    84.882000    71.856000   \n",
       "75%    376193.250000    62.000000   175.790500    92.632000    84.623250   \n",
       "max    449778.000000    78.000000   289.273000    99.975000   144.004000   \n",
       "\n",
       "       Triglycerides      protein        class  \n",
       "count    1000.000000  1000.000000  1000.000000  \n",
       "mean      113.550669     7.179300     5.500000  \n",
       "std        21.966285     0.668767     2.873719  \n",
       "min        75.003000     6.000000     1.000000  \n",
       "25%        94.810250     6.600000     3.000000  \n",
       "50%       113.458500     7.200000     5.500000  \n",
       "75%       132.131500     7.700000     8.000000  \n",
       "max       201.019000     9.800000    10.000000  "
      ]
     },
     "execution_count": 16,
     "metadata": {},
     "output_type": "execute_result"
    }
   ],
   "source": [
    "data.describe()"
   ]
  },
  {
   "cell_type": "code",
   "execution_count": 17,
   "id": "38750a5d",
   "metadata": {},
   "outputs": [
    {
     "data": {
      "text/plain": [
       "Age                  0\n",
       "Gender               0\n",
       "Weight               0\n",
       "Blood Group          0\n",
       "B#P                  0\n",
       "Sugar                0\n",
       "Red Blood Celles     0\n",
       "White Blood Cells    0\n",
       "Hemoglobin           0\n",
       "Platets              0\n",
       "Hematocrit           0\n",
       "cholesterol          0\n",
       "LDL                  0\n",
       "HDL                  0\n",
       "Triglycerides        0\n",
       "protein              0\n",
       "class                0\n",
       "dtype: int64"
      ]
     },
     "execution_count": 17,
     "metadata": {},
     "output_type": "execute_result"
    }
   ],
   "source": [
    "data.isnull().sum()"
   ]
  },
  {
   "cell_type": "code",
   "execution_count": 18,
   "id": "cb6dd0de",
   "metadata": {},
   "outputs": [],
   "source": [
    "data=pd.read_csv(r'D:\\2022BE Projects\\healthy\\Healthy Food\\healthfood.csv')"
   ]
  },
  {
   "cell_type": "code",
   "execution_count": 19,
   "id": "57932981",
   "metadata": {},
   "outputs": [],
   "source": [
    "from sklearn.model_selection import cross_val_score\n",
    "from sklearn.model_selection import train_test_split\n",
    "from sklearn.neighbors import KNeighborsClassifier\n",
    "from sklearn.model_selection import GridSearchCV\n",
    "from sklearn.naive_bayes import GaussianNB\n",
    "from sklearn import svm\n",
    "from sklearn.tree import DecisionTreeClassifier\n",
    "from sklearn.ensemble import RandomForestClassifier\n",
    "from sklearn.metrics import accuracy_score\n",
    "from sklearn import tree\n",
    "from sklearn.svm import SVC\n",
    "from sklearn.linear_model import LogisticRegression"
   ]
  },
  {
   "cell_type": "code",
   "execution_count": 20,
   "id": "7a71e603",
   "metadata": {},
   "outputs": [],
   "source": [
    "data=data.drop(columns=['name','id'])"
   ]
  },
  {
   "cell_type": "code",
   "execution_count": 21,
   "id": "c8575031",
   "metadata": {},
   "outputs": [],
   "source": [
    "data=data.replace(['female','male','Healthy','Not Healthy','A+','A-','B+','B-','AB+','AB-','O+','O-'],['0','1','0','1','0','1','2','3','4','5','6','7'])\n"
   ]
  },
  {
   "cell_type": "code",
   "execution_count": 22,
   "id": "cdb1c782",
   "metadata": {},
   "outputs": [],
   "source": [
    "X = data.drop(columns=['eligibility'])"
   ]
  },
  {
   "cell_type": "code",
   "execution_count": 23,
   "id": "3b659afc",
   "metadata": {},
   "outputs": [],
   "source": [
    "y = data['eligibility'].values"
   ]
  },
  {
   "cell_type": "code",
   "execution_count": 24,
   "id": "8865da4a",
   "metadata": {},
   "outputs": [],
   "source": [
    "X_train1, X_test1, y_train1, y_test1 = train_test_split(X, y, test_size = 0.2, random_state=1, stratify=y)"
   ]
  },
  {
   "cell_type": "code",
   "execution_count": 25,
   "id": "e6cd346e",
   "metadata": {},
   "outputs": [],
   "source": [
    "from sklearn.metrics import confusion_matrix\n",
    "from sklearn.metrics import precision_score, recall_score, f1_score, accuracy_score\n",
    "from sklearn import metrics"
   ]
  },
  {
   "cell_type": "code",
   "execution_count": 26,
   "id": "e533cc02",
   "metadata": {},
   "outputs": [],
   "source": [
    "acc = []\n",
    "model = []"
   ]
  },
  {
   "cell_type": "code",
   "execution_count": 27,
   "id": "af282e96",
   "metadata": {},
   "outputs": [
    {
     "name": "stdout",
     "output_type": "stream",
     "text": [
      "DecisionTrees's Accuracy is:  100.0\n",
      "              precision    recall  f1-score   support\n",
      "\n",
      "           0       1.00      1.00      1.00        31\n",
      "           1       1.00      1.00      1.00        50\n",
      "\n",
      "    accuracy                           1.00        81\n",
      "   macro avg       1.00      1.00      1.00        81\n",
      "weighted avg       1.00      1.00      1.00        81\n",
      "\n",
      "Precision: 1.000\n",
      "Recall: 1.000\n",
      "F1_Score: 1.000\n"
     ]
    },
    {
     "name": "stderr",
     "output_type": "stream",
     "text": [
      "C:\\Users\\admin\\AppData\\Roaming\\Python\\Python39\\site-packages\\numpy\\lib\\arraysetops.py:604: FutureWarning: elementwise comparison failed; returning scalar instead, but in the future will perform elementwise comparison\n",
      "  mask &= (ar1 != a)\n",
      "C:\\Users\\admin\\AppData\\Roaming\\Python\\Python39\\site-packages\\numpy\\lib\\arraysetops.py:604: FutureWarning: elementwise comparison failed; returning scalar instead, but in the future will perform elementwise comparison\n",
      "  mask &= (ar1 != a)\n"
     ]
    }
   ],
   "source": [
    "from sklearn.tree import DecisionTreeClassifier\n",
    "from sklearn.metrics import classification_report\n",
    "\n",
    "DecisionTree = DecisionTreeClassifier(criterion=\"entropy\",random_state=2,max_depth=5)\n",
    "\n",
    "DecisionTree.fit(X_train1,y_train1)\n",
    "\n",
    "predicted_values = DecisionTree.predict(X_test1)\n",
    "x = metrics.accuracy_score(y_test1, predicted_values)\n",
    "acc.append(x)\n",
    "model.append('Decision Tree')\n",
    "print(\"DecisionTrees's Accuracy is: \", x*100)\n",
    "\n",
    "print(classification_report(y_test1,predicted_values))\n",
    "\n",
    "print('Precision: %.3f' %metrics.recall_score(y_test1, predicted_values,labels=[0,1], average='micro'))\n",
    "print('Recall: %.3f' %metrics.precision_score(y_test1, predicted_values,labels=[0,1], average='micro'))\n",
    "print('F1_Score: %.3f' %metrics.f1_score(y_test1, predicted_values, average='weighted'))"
   ]
  },
  {
   "cell_type": "code",
   "execution_count": 28,
   "id": "598ef4ee",
   "metadata": {
    "scrolled": false
   },
   "outputs": [
    {
     "name": "stdout",
     "output_type": "stream",
     "text": [
      "SVM's Accuracy is:  0.6172839506172839\n"
     ]
    },
    {
     "name": "stderr",
     "output_type": "stream",
     "text": [
      "C:\\Users\\admin\\anaconda3\\lib\\site-packages\\sklearn\\metrics\\_classification.py:1327: UndefinedMetricWarning: Precision and F-score are ill-defined and being set to 0.0 in labels with no predicted samples. Use `zero_division` parameter to control this behavior.\n",
      "  _warn_prf(average, modifier, msg_start, len(result))\n",
      "C:\\Users\\admin\\anaconda3\\lib\\site-packages\\sklearn\\metrics\\_classification.py:1327: UndefinedMetricWarning: Precision and F-score are ill-defined and being set to 0.0 in labels with no predicted samples. Use `zero_division` parameter to control this behavior.\n",
      "  _warn_prf(average, modifier, msg_start, len(result))\n"
     ]
    },
    {
     "name": "stdout",
     "output_type": "stream",
     "text": [
      "              precision    recall  f1-score   support\n",
      "\n",
      "           0       0.00      0.00      0.00        31\n",
      "           1       0.62      1.00      0.76        50\n",
      "\n",
      "    accuracy                           0.62        81\n",
      "   macro avg       0.31      0.50      0.38        81\n",
      "weighted avg       0.38      0.62      0.47        81\n",
      "\n",
      "Precision: 0.617\n",
      "Recall: 0.617\n",
      "F1_Score: 0.471\n"
     ]
    },
    {
     "name": "stderr",
     "output_type": "stream",
     "text": [
      "C:\\Users\\admin\\anaconda3\\lib\\site-packages\\sklearn\\metrics\\_classification.py:1327: UndefinedMetricWarning: Precision and F-score are ill-defined and being set to 0.0 in labels with no predicted samples. Use `zero_division` parameter to control this behavior.\n",
      "  _warn_prf(average, modifier, msg_start, len(result))\n",
      "C:\\Users\\admin\\AppData\\Roaming\\Python\\Python39\\site-packages\\numpy\\lib\\arraysetops.py:604: FutureWarning: elementwise comparison failed; returning scalar instead, but in the future will perform elementwise comparison\n",
      "  mask &= (ar1 != a)\n",
      "C:\\Users\\admin\\AppData\\Roaming\\Python\\Python39\\site-packages\\numpy\\lib\\arraysetops.py:604: FutureWarning: elementwise comparison failed; returning scalar instead, but in the future will perform elementwise comparison\n",
      "  mask &= (ar1 != a)\n"
     ]
    }
   ],
   "source": [
    "from sklearn.svm import SVC\n",
    "\n",
    "SVM = SVC(gamma='auto')\n",
    "\n",
    "SVM.fit(X_train1,y_train1)\n",
    "\n",
    "predicted_values = SVM.predict(X_test1)\n",
    "\n",
    "x = metrics.accuracy_score(y_test1, predicted_values)\n",
    "acc.append(x)\n",
    "model.append('SVM')\n",
    "print(\"SVM's Accuracy is: \", x)\n",
    "\n",
    "\n",
    "print(classification_report(y_test1,predicted_values))\n",
    "\n",
    "print('Precision: %.3f' %metrics.recall_score(y_test1, predicted_values,labels=[0,1], average='micro'))\n",
    "print('Recall: %.3f' %metrics.precision_score(y_test1, predicted_values,labels=[0,1], average='micro'))\n",
    "print('F1_Score: %.3f' %metrics.f1_score(y_test1, predicted_values, average='weighted'))"
   ]
  },
  {
   "cell_type": "code",
   "execution_count": 29,
   "id": "577b1b77",
   "metadata": {
    "scrolled": true
   },
   "outputs": [
    {
     "name": "stdout",
     "output_type": "stream",
     "text": [
      "DecisionTrees's Accuracy is:  60.49382716049383\n",
      "              precision    recall  f1-score   support\n",
      "\n",
      "           0       0.00      0.00      0.00        31\n",
      "           1       0.61      0.98      0.75        50\n",
      "\n",
      "    accuracy                           0.60        81\n",
      "   macro avg       0.31      0.49      0.38        81\n",
      "weighted avg       0.38      0.60      0.47        81\n",
      "\n",
      "Precision: 0.605\n",
      "Recall: 0.605\n",
      "F1_Score: 0.465\n"
     ]
    },
    {
     "name": "stderr",
     "output_type": "stream",
     "text": [
      "C:\\Users\\admin\\AppData\\Roaming\\Python\\Python39\\site-packages\\numpy\\lib\\arraysetops.py:604: FutureWarning: elementwise comparison failed; returning scalar instead, but in the future will perform elementwise comparison\n",
      "  mask &= (ar1 != a)\n",
      "C:\\Users\\admin\\AppData\\Roaming\\Python\\Python39\\site-packages\\numpy\\lib\\arraysetops.py:604: FutureWarning: elementwise comparison failed; returning scalar instead, but in the future will perform elementwise comparison\n",
      "  mask &= (ar1 != a)\n"
     ]
    }
   ],
   "source": [
    "from sklearn.naive_bayes import GaussianNB\n",
    "gnb = GaussianNB()\n",
    "\n",
    "gnb.fit(X_train1,y_train1)\n",
    "\n",
    "predicted_values = gnb.predict(X_test1)\n",
    "x = metrics.accuracy_score(y_test1, predicted_values)\n",
    "acc.append(x)\n",
    "model.append('Guasian Naive')\n",
    "print(\"DecisionTrees's Accuracy is: \", x*100)\n",
    "\n",
    "print(classification_report(y_test1,predicted_values))\n",
    "\n",
    "print('Precision: %.3f' %metrics.recall_score(y_test1, predicted_values,labels=[0,1], average='micro'))\n",
    "print('Recall: %.3f' %metrics.precision_score(y_test1, predicted_values,labels=[0,1], average='micro'))\n",
    "print('F1_Score: %.3f' %metrics.f1_score(y_test1, predicted_values, average='weighted'))"
   ]
  },
  {
   "cell_type": "code",
   "execution_count": 30,
   "id": "bceb3172",
   "metadata": {
    "scrolled": true
   },
   "outputs": [
    {
     "name": "stdout",
     "output_type": "stream",
     "text": [
      "DecisionTrees's Accuracy is:  50.617283950617285\n",
      "              precision    recall  f1-score   support\n",
      "\n",
      "           0       0.38      0.45      0.41        31\n",
      "           1       0.61      0.54      0.57        50\n",
      "\n",
      "    accuracy                           0.51        81\n",
      "   macro avg       0.50      0.50      0.49        81\n",
      "weighted avg       0.52      0.51      0.51        81\n",
      "\n"
     ]
    },
    {
     "name": "stderr",
     "output_type": "stream",
     "text": [
      "C:\\Users\\admin\\AppData\\Roaming\\Python\\Python39\\site-packages\\numpy\\lib\\arraysetops.py:604: FutureWarning: elementwise comparison failed; returning scalar instead, but in the future will perform elementwise comparison\n",
      "  mask &= (ar1 != a)\n"
     ]
    },
    {
     "name": "stdout",
     "output_type": "stream",
     "text": [
      "Precision: 0.506\n",
      "Recall: 0.506\n",
      "F1_Score: 0.512\n"
     ]
    },
    {
     "name": "stderr",
     "output_type": "stream",
     "text": [
      "C:\\Users\\admin\\AppData\\Roaming\\Python\\Python39\\site-packages\\numpy\\lib\\arraysetops.py:604: FutureWarning: elementwise comparison failed; returning scalar instead, but in the future will perform elementwise comparison\n",
      "  mask &= (ar1 != a)\n"
     ]
    }
   ],
   "source": [
    "knn = KNeighborsClassifier(n_neighbors = 3)\n",
    "\n",
    "knn.fit(X_train1,y_train1)\n",
    "\n",
    "predicted_values = knn.predict(X_test1)\n",
    "x = metrics.accuracy_score(y_test1, predicted_values)\n",
    "acc.append(x)\n",
    "model.append('KNN')\n",
    "print(\"DecisionTrees's Accuracy is: \", x*100)\n",
    "\n",
    "print(classification_report(y_test1,predicted_values))\n",
    "\n",
    "print('Precision: %.3f' %metrics.recall_score(y_test1, predicted_values,labels=[0,1], average='micro'))\n",
    "print('Recall: %.3f' %metrics.precision_score(y_test1, predicted_values,labels=[0,1], average='micro'))\n",
    "print('F1_Score: %.3f' %metrics.f1_score(y_test1, predicted_values, average='weighted'))"
   ]
  },
  {
   "cell_type": "code",
   "execution_count": 31,
   "id": "ef90fe3f",
   "metadata": {},
   "outputs": [
    {
     "name": "stdout",
     "output_type": "stream",
     "text": [
      "Random Forest's Accuracy is:  96.29629629629629\n",
      "              precision    recall  f1-score   support\n",
      "\n",
      "           0       0.94      0.97      0.95        31\n",
      "           1       0.98      0.96      0.97        50\n",
      "\n",
      "    accuracy                           0.96        81\n",
      "   macro avg       0.96      0.96      0.96        81\n",
      "weighted avg       0.96      0.96      0.96        81\n",
      "\n",
      "Precision: 0.963\n",
      "Recall: 0.963\n",
      "F1_Score: 0.963\n"
     ]
    },
    {
     "name": "stderr",
     "output_type": "stream",
     "text": [
      "C:\\Users\\admin\\AppData\\Roaming\\Python\\Python39\\site-packages\\numpy\\lib\\arraysetops.py:604: FutureWarning: elementwise comparison failed; returning scalar instead, but in the future will perform elementwise comparison\n",
      "  mask &= (ar1 != a)\n",
      "C:\\Users\\admin\\AppData\\Roaming\\Python\\Python39\\site-packages\\numpy\\lib\\arraysetops.py:604: FutureWarning: elementwise comparison failed; returning scalar instead, but in the future will perform elementwise comparison\n",
      "  mask &= (ar1 != a)\n"
     ]
    }
   ],
   "source": [
    "from sklearn.ensemble import RandomForestClassifier\n",
    "rf = RandomForestClassifier(random_state=0)\n",
    "\n",
    "rf.fit(X_train1,y_train1)\n",
    "\n",
    "predicted_values = rf.predict(X_test1)\n",
    "x = metrics.accuracy_score(y_test1, predicted_values)\n",
    "acc.append(x)\n",
    "model.append('Random Forest')\n",
    "print(\"Random Forest's Accuracy is: \", x*100)\n",
    "\n",
    "print(classification_report(y_test1,predicted_values))\n",
    "\n",
    "print('Precision: %.3f' %metrics.recall_score(y_test1, predicted_values,labels=[0,1], average='micro'))\n",
    "print('Recall: %.3f' %metrics.precision_score(y_test1, predicted_values,labels=[0,1], average='micro'))\n",
    "print('F1_Score: %.3f' %metrics.f1_score(y_test1, predicted_values, average='weighted'))"
   ]
  },
  {
   "cell_type": "code",
   "execution_count": 33,
   "id": "4d4d269a",
   "metadata": {},
   "outputs": [
    {
     "data": {
      "text/plain": [
       "<AxesSubplot:title={'center':'Accuracy Comparison 80% Train and 20% Test Dataset'}, xlabel='Accuracy', ylabel='Algorithm'>"
      ]
     },
     "execution_count": 33,
     "metadata": {},
     "output_type": "execute_result"
    },
    {
     "data": {
      "image/png": "[encoded data removed]",
      "text/plain": [
       "<Figure size 1000x500 with 1 Axes>"
      ]
     },
     "metadata": {
      "needs_background": "light"
     },
     "output_type": "display_data"
    }
   ],
   "source": [
    "plt.figure(figsize=[10,5],dpi = 100)\n",
    "plt.title('Accuracy Comparison 80% Train and 20% Test Dataset')\n",
    "plt.xlabel('Accuracy')\n",
    "plt.ylabel('Algorithm')\n",
    "sns.barplot(x = acc,y = model,palette='dark')"
   ]
  },
  {
   "cell_type": "code",
   "execution_count": null,
   "id": "3adccb0f",
   "metadata": {},
   "outputs": [],
   "source": []
  }
 ],
 "metadata": {
  "kernelspec": {
   "display_name": "Python 3 (ipykernel)",
   "language": "python",
   "name": "python3"
  },
  "language_info": {
   "codemirror_mode": {
    "name": "ipython",
    "version": 3
   },
   "file_extension": ".py",
   "mimetype": "text/x-python",
   "name": "python",
   "nbconvert_exporter": "python",
   "pygments_lexer": "ipython3",
   "version": "3.9.7"
  }
 },
 "nbformat": 4,
 "nbformat_minor": 5
}
